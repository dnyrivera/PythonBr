{
 "cells": [
  {
   "cell_type": "markdown",
   "metadata": {},
   "source": [
    "# Logic Operators"
   ]
  },
  {
   "cell_type": "code",
   "execution_count": 3,
   "metadata": {},
   "outputs": [
    {
     "name": "stdout",
     "output_type": "stream",
     "text": [
      "Both are true\n"
     ]
    }
   ],
   "source": [
    "a = True \n",
    "b = True\n",
    "\n",
    "if a and b:\n",
    "    print(\"Both are true\")\n",
    "else: \n",
    "    print(\"At least one is false\")"
   ]
  },
  {
   "cell_type": "code",
   "execution_count": 8,
   "metadata": {},
   "outputs": [
    {
     "name": "stdout",
     "output_type": "stream",
     "text": [
      "Login Denied\n"
     ]
    }
   ],
   "source": [
    "name = \"Donny\"\n",
    "age = 40\n",
    "\n",
    "if name == 'Donny' and age < 18:\n",
    "    print(\"Login Granted\")\n",
    "else:\n",
    "    print(\"Login Denied\")"
   ]
  }
 ],
 "metadata": {
  "kernelspec": {
   "display_name": "venv",
   "language": "python",
   "name": "python3"
  },
  "language_info": {
   "codemirror_mode": {
    "name": "ipython",
    "version": 3
   },
   "file_extension": ".py",
   "mimetype": "text/x-python",
   "name": "python",
   "nbconvert_exporter": "python",
   "pygments_lexer": "ipython3",
   "version": "3.12.2"
  }
 },
 "nbformat": 4,
 "nbformat_minor": 2
}
