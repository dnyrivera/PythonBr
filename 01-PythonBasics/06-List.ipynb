{
 "cells": [
  {
   "cell_type": "markdown",
   "metadata": {},
   "source": [
    "## Lists"
   ]
  },
  {
   "cell_type": "code",
   "execution_count": 2,
   "metadata": {},
   "outputs": [
    {
     "name": "stdout",
     "output_type": "stream",
     "text": [
      "[]\n",
      "[1, 2, 3, 4, 5]\n",
      "[1, 2, 3, 4, 'a', 'b', 'c']\n",
      "1\n"
     ]
    }
   ],
   "source": [
    "# Create a empty list\n",
    "list1 = []\n",
    "print(list1)\n",
    "\n",
    "# Create a list with elements\n",
    "list2 = [1, 2, 3, 4, 5]\n",
    "print(list2)\n",
    "\n",
    "# Create a list with mixed elements\n",
    "list3 = [1, 2, 3, 4, 'a', 'b', 'c']\n",
    "print(list3)   \n",
    "\n",
    "# Access elements of a list\n",
    "print(list2[0])"
   ]
  },
  {
   "cell_type": "markdown",
   "metadata": {},
   "source": [
    "### List Methods"
   ]
  },
  {
   "cell_type": "code",
   "execution_count": null,
   "metadata": {},
   "outputs": [
    {
     "name": "stdout",
     "output_type": "stream",
     "text": [
      "Add elements at the end of the list: ['Mareá', 'Fusca', 10]\n",
      "Add a element to the list in a specific position: ['Mareá', 'Fusca', 'Corsa', 10]\n"
     ]
    }
   ],
   "source": [
    "cars = []\n",
    "# add elements at the end of the list\n",
    "cars.append('Mareá')\n",
    "cars.append('Fusca')\n",
    "cars.append(10)\n",
    "print(f'Add elements at the end of the list: {cars}') # print the list (cars)  \n",
    "\n",
    "# add a element to the list in a specific position \n",
    "cars.insert(2, 'Corsa')\n",
    "print(f'Add a element to the list in a specific position: {cars}') # print the list (cars) "
   ]
  },
  {
   "cell_type": "code",
   "execution_count": null,
   "metadata": {},
   "outputs": [
    {
     "name": "stdout",
     "output_type": "stream",
     "text": [
      "List: ['Corcel', 'Fusca', 'Chevette', 'Corsa', 'Celta', 'Golf']\n",
      "Remove an element from the list using remove(Chevette): ['Corcel', 'Fusca', 'Corsa', 'Celta', 'Golf']\n",
      "Remove the last element from the list using pop(): ['Corcel', 'Fusca', 'Corsa', 'Celta']\n",
      "Remove the first element from the list using pop(index 1): ['Corcel', 'Corsa', 'Celta']\n",
      "Remove the element at index 2: ['Corcel', 'Corsa']\n",
      "Remove all elements from the list: []\n"
     ]
    }
   ],
   "source": [
    "old_cars = ['Corcel', 'Fusca', 'Chevrette', 'Corsa', 'Celta', 'Golf']\n",
    "print(f'List: {old_cars}') # print the list (old_cars)\n",
    "# remove an element from the list\n",
    "old_cars.remove('Chevrette')\n",
    "print(f'Remove an element from the list using remove(Chevette): {old_cars}') # print the list (old_cars) \n",
    "\n",
    "# remove the last element from the list\n",
    "old_cars.pop()\n",
    "print(f'Remove the last element from the list using pop(): {old_cars}') # print the list (old_cars)\n",
    "\n",
    "# remove the first element from the list\n",
    "old_cars.pop(1)\n",
    "print(f'Remove the first element from the list using pop(index 1): {old_cars}') # print the list (old_cars)\n",
    "\n",
    "# remove the element at index 2\n",
    "del old_cars[2]\n",
    "print(f'Remove the element at index 2: {old_cars}') # print the list (old_cars)\n",
    "\n",
    "# remove all elements from the list (clear the list)\n",
    "old_cars.clear()\n",
    "print(f'Remove all elements from the list: {old_cars}') # print the list (old_cars)"
   ]
  },
  {
   "cell_type": "code",
   "execution_count": 11,
   "metadata": {},
   "outputs": [
    {
     "name": "stdout",
     "output_type": "stream",
     "text": [
      "List: ['A', 'B', 'D', 'O', 'K', 'Y', 'A']\n",
      "Count th the number of occurrences of an element (A): 2\n",
      "invert the order of the list: ['X', 'A', 'Y', 'K', 'O', 'D', 'B', 'A']\n",
      "Sort the list: ['A', 'A', 'B', 'D', 'K', 'O', 'X', 'Y']\n"
     ]
    }
   ],
   "source": [
    "# count the number of occurrences of an element\n",
    "letters = [ 'A', 'B', 'D', 'O', 'K', 'Y', 'A']\n",
    "print(f'List: {letters}') # print the list (old_cars)\n",
    "print(f'Count th the number of occurrences of an element (A): {letters.count(\"A\")}') # print the list (old_cars)\n",
    "\n",
    "# add an element to the end of the list\n",
    "letters.append('X')\n",
    "\n",
    "# invert the order of the list\n",
    "letters.reverse()\n",
    "print(f'invert the order of the list: {letters}')\n",
    "\n",
    "# sort the list\n",
    "letters.sort()\n",
    "print(f'Sort the list: {letters}') # print the list "
   ]
  },
  {
   "cell_type": "markdown",
   "metadata": {},
   "source": [
    "Sure! Here are some additional examples of list operations that you can add to your file:\n",
    "\n"
   ]
  },
  {
   "cell_type": "code",
   "execution_count": null,
   "metadata": {},
   "outputs": [
    {
     "name": "stdout",
     "output_type": "stream",
     "text": [
      "Insert an element at position 2: ['A', 'E', 'Z', 'I', 'O', 'U']\n",
      "Remove the element \"O\": ['A', 'E', 'Z', 'I', 'U']\n",
      "Pop the last element: U\n",
      "List after popping: ['A', 'E', 'Z', 'I']\n",
      "Index of element \"I\": 3\n",
      "Extend the list: ['A', 'E', 'Z', 'I', 'P', 'Q', 'R']\n",
      "Copy of the list: ['A', 'E', 'Z', 'I', 'P', 'Q', 'R']\n",
      "Clear the list: []\n"
     ]
    }
   ],
   "source": [
    "# Initialize the letters list\n",
    "letters = ['A', 'E', 'I', 'O', 'U']\n",
    "\n",
    "\n",
    "# insert an element at a specific position\n",
    "letters.insert(2, 'Z')\n",
    "print(f'Insert an element at position 2: {letters}')\n",
    "\n",
    "# remove an element from the list\n",
    "letters.remove('O')\n",
    "print(f'Remove the element \"O\": {letters}')\n",
    "\n",
    "# pop an element from the list\n",
    "popped_element = letters.pop()\n",
    "\n",
    "print(f'Pop the last element: {popped_element}')\n",
    "print(f'List after popping: {letters}')\n",
    "\n",
    "# find the index of an element\n",
    "index_of_i = letters.index('I')\n",
    "print(f'Index of element \"I\": {index_of_i}')\n",
    "\n",
    "\n",
    "# extend the list by appending elements from another list\n",
    "letters.extend(['P', 'Q', 'R'])\n",
    "print(f'Extend the list: {letters}')\n",
    "\n",
    "# copy the list\n",
    "letters_copy = letters.copy()\n",
    "print(f'Copy of the list: {letters_copy}')\n",
    "\n",
    "# clear the list\n",
    "letters.clear()\n",
    "print(f'Clear the list: {letters}')"
   ]
  },
  {
   "cell_type": "markdown",
   "metadata": {},
   "source": [
    "\n",
    "\n",
    "These examples cover various list operations such as inserting, removing, popping, finding the index, clearing, extending, and copying a list."
   ]
  },
  {
   "cell_type": "markdown",
   "metadata": {},
   "source": [
    "### List Comprehension "
   ]
  },
  {
   "cell_type": "code",
   "execution_count": null,
   "metadata": {},
   "outputs": [
    {
     "name": "stdout",
     "output_type": "stream",
     "text": [
      "[2, 4, 6, 8, 10, 12, 14, 16, 18, 20]\n",
      "List of squares: [0, 1, 4, 9, 16, 25, 36, 49, 64, 81]\n",
      "List of even squares: [0, 4, 16, 36, 64]\n",
      "List of (number, square) tuples: [(0, 0), (1, 1), (2, 4), (3, 9), (4, 16), (5, 25), (6, 36), (7, 49), (8, 64), (9, 81)]\n",
      "Flattened list: [1, 2, 3, 4, 5, 6, 7, 8, 9]\n",
      "List of squared numbers using a function: [0, 1, 4, 9, 16, 25, 36, 49, 64, 81]\n"
     ]
    }
   ],
   "source": [
    "numbers = [1, 2, 3, 4, 5, 6, 7, 8, 9, 10]\n",
    "\n",
    "# without list comprehension\n",
    "# for number in numbers:\n",
    "#     double_numbers.append(number * 2)\n",
    "\n",
    "# with list comprehension\n",
    "double_numbers = [number * 2 for number in numbers] \n",
    "print(double_numbers)\n",
    "\n",
    "# List comprehension to create a list of squares\n",
    "squares = [x**2 for x in range(10)]\n",
    "print(f'List of squares: {squares}')\n",
    "\n",
    "# List comprehension with a condition\n",
    "even_squares = [x**2 for x in range(10) if x % 2 == 0]\n",
    "print(f'List of even squares: {even_squares}')\n",
    "\n",
    "# List comprehension to create a list of tuples (number, square)\n",
    "number_square_tuples = [(x, x**2) for x in range(10)]\n",
    "print(f'List of (number, square) tuples: {number_square_tuples}')\n",
    "\n",
    "# List comprehension to flatten a list of lists\n",
    "nested_list = [[1, 2, 3], [4, 5, 6], [7, 8, 9]]\n",
    "flattened_list = [item for sublist in nested_list for item in sublist]\n",
    "print(f'Flattened list: {flattened_list}')\n",
    "\n",
    "# List comprehension with a function\n",
    "def square(x):\n",
    "    return x**2\n",
    "\n",
    "squared_numbers = [square(x) for x in range(10)]\n",
    "print(f'List of squared numbers using a function: {squared_numbers}')"
   ]
  },
  {
   "cell_type": "code",
   "execution_count": 10,
   "metadata": {},
   "outputs": [
    {
     "name": "stdout",
     "output_type": "stream",
     "text": [
      "['LUKE']\n"
     ]
    }
   ],
   "source": [
    "names = ['John', 'Mark', 'Luke', 'Sarah', 'Adam']\n",
    "upper_names = [name.upper() for name in names if len(name) > 3 and name.startswith('L')]\n",
    "print(upper_names)"
   ]
  },
  {
   "cell_type": "code",
   "execution_count": 33,
   "metadata": {},
   "outputs": [
    {
     "name": "stdout",
     "output_type": "stream",
     "text": [
      "[4, 16, 36, 64, 100]\n"
     ]
    }
   ],
   "source": [
    "#Using function in List Comprehension with condition\n",
    "def square(x):\n",
    "    return x ** 2 \n",
    "\n",
    "numbers = [1, 2, 3, 4, 5, 6, 7, 8, 9, 10]\n",
    "squares = [square(number) for number in numbers if number % 2 == 0]\n",
    "\n",
    "print(squares)"
   ]
  },
  {
   "cell_type": "markdown",
   "metadata": {},
   "source": [
    "## Exercises \n"
   ]
  },
  {
   "cell_type": "code",
   "execution_count": 51,
   "metadata": {},
   "outputs": [
    {
     "name": "stdout",
     "output_type": "stream",
     "text": [
      "Fist Task added 01 - Wake up\n",
      "Second Task added 02 - Go to work\n"
     ]
    }
   ],
   "source": [
    "tasks = []\n",
    "\n",
    "# add an element to the end of the list\n",
    "tasks.append('Wake up')\n",
    "print(f'Fist Task added 01 - {tasks[0]}')\n",
    "\n",
    "# add an element to the end of the list\n",
    "tasks.insert (1, 'Go to work')\n",
    "print(f'Second Task added 02 - {tasks[1]}')"
   ]
  },
  {
   "cell_type": "markdown",
   "metadata": {},
   "source": [
    "Exercise 1 : Create and Access Elements in a List  \n",
    "Create a list of your favorite fruits. Print the List and then access and print the first, last and a middle element in the list  \n"
   ]
  },
  {
   "cell_type": "code",
   "execution_count": 24,
   "metadata": {},
   "outputs": [
    {
     "name": "stdout",
     "output_type": "stream",
     "text": [
      "List Size: 8, \n",
      "      First Fruit: Passion Fruit, \n",
      "      Middle Fruit: Watermelon, \n",
      "      Last Fruit: Kiwi\n"
     ]
    }
   ],
   "source": [
    "fruits = ['Passion Fruit', 'Strawberry', 'Raspberry', 'Grapes', 'Watermelon', 'Orange', 'Lime', 'Kiwi']\n",
    "# fruits.append('Kiwi')\n",
    "print(f\"\"\"List Size: {len(fruits)}, \n",
    "      First Fruit: {fruits[0]}, \n",
    "      Middle Fruit: {fruits[(len(fruits) // 2)]}, \n",
    "      Last Fruit: {fruits[-1]}\"\"\", end='\\n')"
   ]
  }
 ],
 "metadata": {
  "kernelspec": {
   "display_name": "venv",
   "language": "python",
   "name": "python3"
  },
  "language_info": {
   "codemirror_mode": {
    "name": "ipython",
    "version": 3
   },
   "file_extension": ".py",
   "mimetype": "text/x-python",
   "name": "python",
   "nbconvert_exporter": "python",
   "pygments_lexer": "ipython3",
   "version": "3.13.0"
  }
 },
 "nbformat": 4,
 "nbformat_minor": 2
}
