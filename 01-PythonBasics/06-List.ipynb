{
 "cells": [
  {
   "cell_type": "markdown",
   "metadata": {},
   "source": [
    "## Lists"
   ]
  },
  {
   "cell_type": "code",
   "execution_count": 17,
   "metadata": {},
   "outputs": [
    {
     "name": "stdout",
     "output_type": "stream",
     "text": [
      "[]\n",
      "[1, 2, 3, 4, 5]\n",
      "[1, 2, 3, 4, 'a', 'b', 'c']\n",
      "1\n"
     ]
    }
   ],
   "source": [
    "# Create a empty list\n",
    "list1 = []\n",
    "print(list1)\n",
    "\n",
    "# Create a list with elements\n",
    "list2 = [1, 2, 3, 4, 5]\n",
    "print(list2)\n",
    "\n",
    "# Create a list with mixed elements\n",
    "list3 = [1, 2, 3, 4, 'a', 'b', 'c']\n",
    "print(list3)   \n",
    "\n",
    "# Access elements of a list\n",
    "print(list2[0])"
   ]
  },
  {
   "cell_type": "markdown",
   "metadata": {},
   "source": [
    "### List Methods"
   ]
  },
  {
   "cell_type": "code",
   "execution_count": 18,
   "metadata": {},
   "outputs": [
    {
     "name": "stdout",
     "output_type": "stream",
     "text": [
      "Add elements at the end of the list: ['Marea', 'Fusca', 10]\n",
      "Add a element to the list in a specific position: ['Marea', 'Fusca', 'Corsa', 10]\n"
     ]
    }
   ],
   "source": [
    "cars = []\n",
    "# add elements at the end of the list\n",
    "cars.append('Marea')\n",
    "cars.append('Fusca')\n",
    "cars.append(10)\n",
    "print(f'Add elements at the end of the list: {cars}') # print the list (cars)  \n",
    "\n",
    "# add a element to the list in a specific position\n",
    "cars.insert(2, 'Corsa')\n",
    "print(f'Add a element to the list in a specific position: {cars}') # print the list (cars) "
   ]
  },
  {
   "cell_type": "code",
   "execution_count": 19,
   "metadata": {},
   "outputs": [
    {
     "name": "stdout",
     "output_type": "stream",
     "text": [
      "List: ['Corcel', 'Fusca', 'Chevette', 'Corsa', 'Celta', 'Golf']\n",
      "Remove an element from the list using remove(Chevette): ['Corcel', 'Fusca', 'Corsa', 'Celta', 'Golf']\n",
      "Remove the last element from the list using pop(): ['Corcel', 'Fusca', 'Corsa', 'Celta']\n",
      "Remove the first element from the list using pop(index 1): ['Corcel', 'Corsa', 'Celta']\n",
      "Remove the element at index 2: ['Corcel', 'Corsa']\n",
      "Remove all elements from the list: []\n"
     ]
    }
   ],
   "source": [
    "old_cars = ['Corcel', 'Fusca', 'Chevette', 'Corsa', 'Celta', 'Golf']\n",
    "print(f'List: {old_cars}') # print the list (old_cars)\n",
    "# remove an element from the list\n",
    "old_cars.remove('Chevette')\n",
    "print(f'Remove an element from the list using remove(Chevette): {old_cars}') # print the list (old_cars) \n",
    "\n",
    "# remove the last element from the list\n",
    "old_cars.pop()\n",
    "print(f'Remove the last element from the list using pop(): {old_cars}') # print the list (old_cars)\n",
    "\n",
    "# remove the first element from the list\n",
    "old_cars.pop(1)\n",
    "print(f'Remove the first element from the list using pop(index 1): {old_cars}') # print the list (old_cars)\n",
    "\n",
    "# remove the element at index 2\n",
    "del old_cars[2]\n",
    "print(f'Remove the element at index 2: {old_cars}') # print the list (old_cars)\n",
    "\n",
    "# remove all elements from the list (clear the list)\n",
    "old_cars.clear()\n",
    "print(f'Remove all elements from the list: {old_cars}') # print the list (old_cars)"
   ]
  },
  {
   "cell_type": "code",
   "execution_count": 20,
   "metadata": {},
   "outputs": [
    {
     "name": "stdout",
     "output_type": "stream",
     "text": [
      "List: ['A', 'B', 'D', 'O', 'K', 'Y', 'A']\n",
      "Count th the number of occurrences of an element (A): 2\n",
      "invert the order of the list: ['X', 'A', 'Y', 'K', 'O', 'D', 'B', 'A']\n",
      "Sort the list: ['A', 'A', 'B', 'D', 'K', 'O', 'X', 'Y']\n"
     ]
    }
   ],
   "source": [
    "# count the number of occurrences of an element\n",
    "letters = [ 'A', 'B', 'D', 'O', 'K', 'Y', 'A']\n",
    "print(f'List: {letters}') # print the list (old_cars)\n",
    "print(f'Count th the number of occurrences of an element (A): {letters.count(\"A\")}') # print the list (old_cars)\n",
    "\n",
    "# add an element to the end of the list\n",
    "letters.append('X')\n",
    "\n",
    "# invert the order of the list\n",
    "letters.reverse()\n",
    "print(f'invert the order of the list: {letters}')\n",
    "\n",
    "# sort the list\n",
    "letters.sort()\n",
    "print(f'Sort the list: {letters}') # print the list "
   ]
  },
  {
   "cell_type": "markdown",
   "metadata": {},
   "source": [
    "### List Comprehension "
   ]
  },
  {
   "cell_type": "code",
   "execution_count": 23,
   "metadata": {},
   "outputs": [
    {
     "name": "stdout",
     "output_type": "stream",
     "text": [
      "[2, 4, 6, 8, 10, 12, 14, 16, 18, 20]\n"
     ]
    }
   ],
   "source": [
    "numbers = [1, 2, 3, 4, 5, 6, 7, 8, 9, 10]\n",
    "\n",
    "# with list comprehension\n",
    "double_numbers = [number * 2 for number in numbers] \n",
    "\n",
    "# without list comprehension\n",
    "# for number in numbers:\n",
    "#     double_numbers.append(number * 2)\n",
    "\n",
    "print(double_numbers)"
   ]
  },
  {
   "cell_type": "code",
   "execution_count": 31,
   "metadata": {},
   "outputs": [
    {
     "name": "stdout",
     "output_type": "stream",
     "text": [
      "['SARAH']\n"
     ]
    }
   ],
   "source": [
    "names = ['John', 'Mark', 'Luke', 'Sarah', 'Adam']\n",
    "upper_names = [name.upper() for name in names if len(name) > 4]\n",
    "print(upper_names)"
   ]
  },
  {
   "cell_type": "code",
   "execution_count": 33,
   "metadata": {},
   "outputs": [
    {
     "name": "stdout",
     "output_type": "stream",
     "text": [
      "[4, 16, 36, 64, 100]\n"
     ]
    }
   ],
   "source": [
    "#Using function in List Comprehension with condition\n",
    "def square(x):\n",
    "    return x ** 2 \n",
    "\n",
    "numbers = [1, 2, 3, 4, 5, 6, 7, 8, 9, 10]\n",
    "squares = [square(number) for number in numbers if number % 2 == 0]\n",
    "\n",
    "print(squares)"
   ]
  },
  {
   "cell_type": "markdown",
   "metadata": {},
   "source": [
    "## Exercises \n"
   ]
  },
  {
   "cell_type": "code",
   "execution_count": 51,
   "metadata": {},
   "outputs": [
    {
     "name": "stdout",
     "output_type": "stream",
     "text": [
      "Fist Task added 01 - Wake up\n",
      "Second Task added 02 - Go to work\n"
     ]
    }
   ],
   "source": [
    "tasks = []\n",
    "\n",
    "# add an element to the end of the list\n",
    "tasks.append('Wake up')\n",
    "print(f'Fist Task added 01 - {tasks[0]}')\n",
    "\n",
    "# add an element to the end of the list\n",
    "tasks.insert (1, 'Go to work')\n",
    "print(f'Second Task added 02 - {tasks[1]}')"
   ]
  }
 ],
 "metadata": {
  "kernelspec": {
   "display_name": "venv",
   "language": "python",
   "name": "python3"
  },
  "language_info": {
   "codemirror_mode": {
    "name": "ipython",
    "version": 3
   },
   "file_extension": ".py",
   "mimetype": "text/x-python",
   "name": "python",
   "nbconvert_exporter": "python",
   "pygments_lexer": "ipython3",
   "version": "3.12.2"
  }
 },
 "nbformat": 4,
 "nbformat_minor": 2
}
