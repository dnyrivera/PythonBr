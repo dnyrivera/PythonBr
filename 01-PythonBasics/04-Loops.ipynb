{
 "cells": [
  {
   "cell_type": "markdown",
   "metadata": {},
   "source": [
    "## Loops "
   ]
  },
  {
   "cell_type": "code",
   "execution_count": 3,
   "metadata": {},
   "outputs": [
    {
     "name": "stdout",
     "output_type": "stream",
     "text": [
      "Email 1 sent to Donny with the email address d@d.com.\n",
      "Email 2 sent to Josany with the email address j@j.com.\n",
      "Email 3 sent to Rafael with the email address r@r.com.\n",
      "Email 4 sent to Carla with the email address c@c.com.\n",
      "Email 5 sent to Hugo with the email address h@h.com.\n"
     ]
    }
   ],
   "source": [
    "def send_email(i:int, name: str, email:str) -> str:\n",
    "    return (f\"Email {i+1} sent to {name} with the email address {email}.\") \n",
    "\n",
    "people = [\n",
    "            {'name': 'Donny', 'email': 'd@d.com'}, \n",
    "            {'name': 'Josany','email': 'j@j.com'}, \n",
    "            {'name': 'Rafael', 'email': 'r@r.com'},\n",
    "            {'name': 'Carla', 'email': 'c@c.com'},\n",
    "            {'name': 'Hugo', 'email': 'h@h.com'},\n",
    "        ]\n",
    "\n",
    "for i, person in enumerate(people):\n",
    "    email_status = send_email(i,person['name'], person['email'])\n",
    "    print(email_status)\n"
   ]
  },
  {
   "cell_type": "code",
   "execution_count": 25,
   "metadata": {},
   "outputs": [
    {
     "name": "stdout",
     "output_type": "stream",
     "text": [
      "0 1 Breaking...\n"
     ]
    }
   ],
   "source": [
    "number = 0 \n",
    " \n",
    "while number < 5:\n",
    "    if number == 2: # stop the loop\n",
    "        print(\"Breaking...\")\n",
    "        break\n",
    "    print(number, end=\" \")\n",
    "    number += 1"
   ]
  },
  {
   "cell_type": "code",
   "execution_count": 33,
   "metadata": {},
   "outputs": [
    {
     "name": "stdout",
     "output_type": "stream",
     "text": [
      "0 continue...\n",
      "2 3 4 "
     ]
    }
   ],
   "source": [
    "number = 0 \n",
    "\n",
    "while number < 5:\n",
    "    if number == 1:\n",
    "        print(\"continue...\")\n",
    "        number += 1\n",
    "        continue\n",
    "    print(number, end=\" \")\n",
    "    number += 1\n",
    "  "
   ]
  },
  {
   "cell_type": "code",
   "execution_count": 10,
   "metadata": {},
   "outputs": [
    {
     "name": "stdout",
     "output_type": "stream",
     "text": [
      "0 1 2 3 4 5 6 7 8 9 "
     ]
    }
   ],
   "source": [
    "for i in range(10):\n",
    "    print(i, end=\" \")"
   ]
  },
  {
   "cell_type": "code",
   "execution_count": 22,
   "metadata": {},
   "outputs": [
    {
     "name": "stdout",
     "output_type": "stream",
     "text": [
      "Email 1 sent to John.\n",
      "Email 2 sent to Mark.\n"
     ]
    }
   ],
   "source": [
    "def send_email2(i: int, customer: str) -> str:\n",
    "    return (f\"Email {i+1} sent to {customer}.\")\n",
    "\n",
    "\n",
    "customers = ['John', 'Mark', 'Luke', 'Sarah', 'Adam']\n",
    "\n",
    "for i, customer in enumerate(customers):\n",
    "    if i == 2:\n",
    "        break\n",
    "    email_return = send_email2(i, customer)\n",
    "    print(email_return)"
   ]
  }
 ],
 "metadata": {
  "kernelspec": {
   "display_name": "venv",
   "language": "python",
   "name": "python3"
  },
  "language_info": {
   "codemirror_mode": {
    "name": "ipython",
    "version": 3
   },
   "file_extension": ".py",
   "mimetype": "text/x-python",
   "name": "python",
   "nbconvert_exporter": "python",
   "pygments_lexer": "ipython3",
   "version": "3.13.0"
  }
 },
 "nbformat": 4,
 "nbformat_minor": 2
}
