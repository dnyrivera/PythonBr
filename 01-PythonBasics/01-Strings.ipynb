{
 "cells": [
  {
   "cell_type": "markdown",
   "metadata": {},
   "source": [
    "## Strings"
   ]
  },
  {
   "cell_type": "code",
   "execution_count": 16,
   "metadata": {},
   "outputs": [
    {
     "name": "stdout",
     "output_type": "stream",
     "text": [
      "First: A | Last: R\n"
     ]
    }
   ],
   "source": [
    "text = \"AULA PYCODE BR\"\n",
    "print(f\"First: {text[0]} | Last: {text[-1]}\")"
   ]
  },
  {
   "cell_type": "code",
   "execution_count": null,
   "metadata": {},
   "outputs": [
    {
     "data": {
      "text/plain": [
       "'PYCODE'"
      ]
     },
     "execution_count": 17,
     "metadata": {},
     "output_type": "execute_result"
    }
   ],
   "source": [
    "#Start on the index 5 and finish in the index 10 \n",
    "text[5:11]"
   ]
  },
  {
   "cell_type": "code",
   "execution_count": null,
   "metadata": {},
   "outputs": [
    {
     "data": {
      "text/plain": [
       "'PYCODEBR'"
      ]
     },
     "execution_count": 94,
     "metadata": {},
     "output_type": "execute_result"
    }
   ],
   "source": [
    "#Start on the index 5 to the end \n",
    "text[5:]"
   ]
  },
  {
   "cell_type": "code",
   "execution_count": 95,
   "metadata": {},
   "outputs": [
    {
     "data": {
      "text/plain": [
       "'AULA PYCODE'"
      ]
     },
     "execution_count": 95,
     "metadata": {},
     "output_type": "execute_result"
    }
   ],
   "source": [
    "text[:-2]"
   ]
  },
  {
   "cell_type": "code",
   "execution_count": 5,
   "metadata": {},
   "outputs": [
    {
     "data": {
      "text/plain": [
       "13"
      ]
     },
     "execution_count": 5,
     "metadata": {},
     "output_type": "execute_result"
    }
   ],
   "source": [
    "len(text) # Length of the text"
   ]
  },
  {
   "cell_type": "code",
   "execution_count": 19,
   "metadata": {},
   "outputs": [
    {
     "data": {
      "text/plain": [
       "1"
      ]
     },
     "execution_count": 19,
     "metadata": {},
     "output_type": "execute_result"
    }
   ],
   "source": [
    "text.count('A') #Count the letter text.count('O',5,11) #Count the letter from position 5 to 11\n",
    "text.count(\"O\", 5, 11)  # Count the letter from position 5 to 11"
   ]
  },
  {
   "cell_type": "code",
   "execution_count": null,
   "metadata": {},
   "outputs": [
    {
     "data": {
      "text/plain": [
       "5"
      ]
     },
     "execution_count": 21,
     "metadata": {},
     "output_type": "execute_result"
    }
   ],
   "source": [
    "text.find('PYCODE') #Find the index-position of the word\n"
   ]
  },
  {
   "cell_type": "code",
   "execution_count": 22,
   "metadata": {},
   "outputs": [
    {
     "name": "stdout",
     "output_type": "stream",
     "text": [
      "Upper: AULA PYCODE BR\n",
      "Lower: aula pycode br\n",
      "Title: Aula Pycode Br\n",
      "Capitalize: Aula pycode br\n",
      "Swapcase: aula pycode br\n",
      "Casefold: aula pycode br\n"
     ]
    }
   ],
   "source": [
    "# Upper, lower, title, capitalize, swapcase, casefold\n",
    "print(\"Upper: \" + text.upper(), \n",
    "      \"Lower: \" + text.lower(),\n",
    "      \"Title: \" +  text.title(),\n",
    "      \"Capitalize: \" + text.capitalize(),\n",
    "      \"Swapcase: \" + text.swapcase(),\n",
    "      \"Casefold: \" + text.casefold(), sep=\"\\n\")"
   ]
  },
  {
   "cell_type": "code",
   "execution_count": 23,
   "metadata": {},
   "outputs": [
    {
     "name": "stdout",
     "output_type": "stream",
     "text": [
      "['AULA', 'PYCODE', 'BR']\n"
     ]
    }
   ],
   "source": [
    "# Split the text in a new list\n",
    "text.split() \n",
    "new_word = text.split()\n",
    "print(new_word)\n"
   ]
  },
  {
   "cell_type": "code",
   "execution_count": null,
   "metadata": {},
   "outputs": [
    {
     "data": {
      "text/plain": [
       "'AULA-PY-CODE-BR'"
      ]
     },
     "execution_count": 34,
     "metadata": {},
     "output_type": "execute_result"
    }
   ],
   "source": [
    "# Join the text in a string with '--' after the split text\n",
    "'-'.join(new_word)"
   ]
  },
  {
   "cell_type": "code",
   "execution_count": 39,
   "metadata": {},
   "outputs": [
    {
     "name": "stdout",
     "output_type": "stream",
     "text": [
      "Before Strip: 21\n",
      "After Strip: 13\n"
     ]
    }
   ],
   "source": [
    "# Remove empty spaces at the beginning and at the end of the string\n",
    "text = \"   AULA PYCODEBR     \"\n",
    "new_text = (text.strip())\n",
    "print(\"Before Strip: \" + str(len(text)), \"After Strip: \" + str(len(new_text)), sep=\"\\n\")"
   ]
  },
  {
   "cell_type": "code",
   "execution_count": 41,
   "metadata": {},
   "outputs": [
    {
     "name": "stdout",
     "output_type": "stream",
     "text": [
      "Both Sides:AULA PYCODEBR\n",
      "Left spaces:AULA PYCODEBR     \n",
      "Right spaces:   AULA PYCODEBR\n"
     ]
    }
   ],
   "source": [
    "text = \"   AULA PYCODEBR     \"\n",
    "print(\"Both Sides:\" + text.strip(), \"Left spaces:\" + text.lstrip(), \"Right spaces:\" + text.rstrip(), sep=\"\\n\")"
   ]
  }
 ],
 "metadata": {
  "kernelspec": {
   "display_name": "venv",
   "language": "python",
   "name": "python3"
  },
  "language_info": {
   "codemirror_mode": {
    "name": "ipython",
    "version": 3
   },
   "file_extension": ".py",
   "mimetype": "text/x-python",
   "name": "python",
   "nbconvert_exporter": "python",
   "pygments_lexer": "ipython3",
   "version": "3.13.0"
  }
 },
 "nbformat": 4,
 "nbformat_minor": 2
}
