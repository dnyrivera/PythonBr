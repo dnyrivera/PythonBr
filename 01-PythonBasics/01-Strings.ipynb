{
 "cells": [
  {
   "cell_type": "markdown",
   "metadata": {},
   "source": [
    "## Strings"
   ]
  },
  {
   "cell_type": "code",
   "execution_count": 25,
   "metadata": {},
   "outputs": [
    {
     "data": {
      "text/plain": [
       "'L'"
      ]
     },
     "execution_count": 25,
     "metadata": {},
     "output_type": "execute_result"
    }
   ],
   "source": [
    "text = \"AULA PY-CODE BR\"\n",
    "text[2]"
   ]
  },
  {
   "cell_type": "code",
   "execution_count": 4,
   "metadata": {},
   "outputs": [
    {
     "data": {
      "text/plain": [
       "'PYCODE'"
      ]
     },
     "execution_count": 4,
     "metadata": {},
     "output_type": "execute_result"
    }
   ],
   "source": [
    "text[5:11]"
   ]
  },
  {
   "cell_type": "code",
   "execution_count": 94,
   "metadata": {},
   "outputs": [
    {
     "data": {
      "text/plain": [
       "'PYCODEBR'"
      ]
     },
     "execution_count": 94,
     "metadata": {},
     "output_type": "execute_result"
    }
   ],
   "source": [
    "text[5:]"
   ]
  },
  {
   "cell_type": "code",
   "execution_count": 95,
   "metadata": {},
   "outputs": [
    {
     "data": {
      "text/plain": [
       "'AULA PYCODE'"
      ]
     },
     "execution_count": 95,
     "metadata": {},
     "output_type": "execute_result"
    }
   ],
   "source": [
    "text[:-2]"
   ]
  },
  {
   "cell_type": "code",
   "execution_count": 5,
   "metadata": {},
   "outputs": [
    {
     "data": {
      "text/plain": [
       "13"
      ]
     },
     "execution_count": 5,
     "metadata": {},
     "output_type": "execute_result"
    }
   ],
   "source": [
    "len(text) # Length of the text"
   ]
  },
  {
   "cell_type": "code",
   "execution_count": null,
   "metadata": {},
   "outputs": [
    {
     "data": {
      "text/plain": [
       "2"
      ]
     },
     "execution_count": 6,
     "metadata": {},
     "output_type": "execute_result"
    }
   ],
   "source": [
    "text.count('A') #Count the letter \n"
   ]
  },
  {
   "cell_type": "code",
   "execution_count": null,
   "metadata": {},
   "outputs": [
    {
     "data": {
      "text/plain": [
       "1"
      ]
     },
     "execution_count": 7,
     "metadata": {},
     "output_type": "execute_result"
    }
   ],
   "source": [
    "text.count('O',5,11) #Count the letter from position 5 to 11"
   ]
  },
  {
   "cell_type": "code",
   "execution_count": 8,
   "metadata": {},
   "outputs": [
    {
     "data": {
      "text/plain": [
       "1"
      ]
     },
     "execution_count": 8,
     "metadata": {},
     "output_type": "execute_result"
    }
   ],
   "source": [
    "text.find('ULA') #Find the position of the letter\n"
   ]
  },
  {
   "cell_type": "code",
   "execution_count": 30,
   "metadata": {},
   "outputs": [
    {
     "name": "stdout",
     "output_type": "stream",
     "text": [
      "Upper: AULA PY-CODE BR\n",
      "Lower: aula py-code br\n",
      "Title: Aula Py-Code Br\n",
      "Capitalize: Aula py-code br\n",
      "Swapcase: aula py-code br\n",
      "Casefold: aula py-code br\n"
     ]
    }
   ],
   "source": [
    "# Upper, lower, title, capitalize, swapcase, casefold\n",
    "print(\"Upper: \" + text.upper(), \n",
    "      \"Lower: \" + text.lower(),\n",
    "      \"Title: \" +  text.title(),\n",
    "      \"Capitalize: \" + text.capitalize(),\n",
    "      \"Swapcase: \" + text.swapcase(),\n",
    "      \"Casefold: \" + text.casefold(), sep=\"\\n\")"
   ]
  },
  {
   "cell_type": "code",
   "execution_count": null,
   "metadata": {},
   "outputs": [
    {
     "name": "stdout",
     "output_type": "stream",
     "text": [
      "['AULA', 'PY-CODE', 'BR']\n"
     ]
    }
   ],
   "source": [
    "# Split the text in a new list\n",
    "text.split() \n",
    "new_word = text.split()\n",
    "print(new_word)\n"
   ]
  },
  {
   "cell_type": "code",
   "execution_count": null,
   "metadata": {},
   "outputs": [
    {
     "data": {
      "text/plain": [
       "'AULA-PY-CODE-BR'"
      ]
     },
     "execution_count": 34,
     "metadata": {},
     "output_type": "execute_result"
    }
   ],
   "source": [
    "# Join the text in a string with '--' after the split text\n",
    "'-'.join(new_word)"
   ]
  },
  {
   "cell_type": "code",
   "execution_count": 39,
   "metadata": {},
   "outputs": [
    {
     "name": "stdout",
     "output_type": "stream",
     "text": [
      "Before Strip: 21\n",
      "After Strip: 13\n"
     ]
    }
   ],
   "source": [
    "# Remove empty spaces at the beginning and at the end of the string\n",
    "text = \"   AULA PYCODEBR     \"\n",
    "new_text = (text.strip())\n",
    "print(\"Before Strip: \" + str(len(text)), \"After Strip: \" + str(len(new_text)), sep=\"\\n\")"
   ]
  },
  {
   "cell_type": "code",
   "execution_count": 41,
   "metadata": {},
   "outputs": [
    {
     "name": "stdout",
     "output_type": "stream",
     "text": [
      "Both Sides:AULA PYCODEBR\n",
      "Left spaces:AULA PYCODEBR     \n",
      "Right spaces:   AULA PYCODEBR\n"
     ]
    }
   ],
   "source": [
    "text = \"   AULA PYCODEBR     \"\n",
    "print(\"Both Sides:\" + text.strip(), \"Left spaces:\" + text.lstrip(), \"Right spaces:\" + text.rstrip(), sep=\"\\n\")"
   ]
  }
 ],
 "metadata": {
  "kernelspec": {
   "display_name": "venv",
   "language": "python",
   "name": "python3"
  },
  "language_info": {
   "codemirror_mode": {
    "name": "ipython",
    "version": 3
   },
   "file_extension": ".py",
   "mimetype": "text/x-python",
   "name": "python",
   "nbconvert_exporter": "python",
   "pygments_lexer": "ipython3",
   "version": "3.12.2"
  }
 },
 "nbformat": 4,
 "nbformat_minor": 2
}
