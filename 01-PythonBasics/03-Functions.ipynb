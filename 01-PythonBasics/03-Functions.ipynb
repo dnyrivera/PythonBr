{
 "cells": [
  {
   "cell_type": "markdown",
   "metadata": {},
   "source": [
    "## Functions"
   ]
  },
  {
   "cell_type": "code",
   "execution_count": null,
   "metadata": {},
   "outputs": [],
   "source": [
    "print(\"Hello World\")"
   ]
  },
  {
   "cell_type": "code",
   "execution_count": null,
   "metadata": {},
   "outputs": [],
   "source": [
    "input = \"Hello World\"\n",
    "print(input) # Hello World"
   ]
  },
  {
   "cell_type": "code",
   "execution_count": null,
   "metadata": {},
   "outputs": [],
   "source": [
    "def my_function():\n",
    "    pass \n",
    "print(my_function)\n",
    "print(my_function())"
   ]
  },
  {
   "cell_type": "code",
   "execution_count": 1,
   "metadata": {},
   "outputs": [],
   "source": [
    "# Function with return statement and parameters\n",
    "def sum_two_numbers (a: int, b: int) -> int:\n",
    "    result = a + b \n",
    "    return result\n"
   ]
  },
  {
   "cell_type": "code",
   "execution_count": 2,
   "metadata": {},
   "outputs": [
    {
     "name": "stdout",
     "output_type": "stream",
     "text": [
      "3\n"
     ]
    }
   ],
   "source": [
    "my_result = sum_two_numbers(1, 2)\n",
    "print(my_result)"
   ]
  },
  {
   "cell_type": "code",
   "execution_count": 1,
   "metadata": {},
   "outputs": [],
   "source": [
    "# Function without return statement and parameters\n",
    "def send_email(to_name: str, to_email: str) -> str:\n",
    "    receiver_name = to_name\n",
    "    receiver_email = to_email\n",
    "\n",
    "    return f'Email sent to {receiver_name} with the email address {receiver_email}.'\n"
   ]
  },
  {
   "cell_type": "code",
   "execution_count": 2,
   "metadata": {},
   "outputs": [
    {
     "name": "stdout",
     "output_type": "stream",
     "text": [
      "Email sent to John with the email address j@j.com.\n",
      "Email sent to Mark with the email address m@m.com.\n",
      "Email sent to Luke with the email address l@l.com.\n"
     ]
    }
   ],
   "source": [
    "people = [\n",
    "            {'name': 'John', 'email': 'j@j.com'}, \n",
    "            {'name': 'Mark','email': 'm@m.com'}, \n",
    "            {'name': 'Luke', 'email': 'l@l.com'}\n",
    "        ]\n",
    "\n",
    "for person in people:\n",
    "    email_status = send_email(person['name'], person['email'])\n",
    "    print(email_status)"
   ]
  }
 ],
 "metadata": {
  "kernelspec": {
   "display_name": "venv",
   "language": "python",
   "name": "python3"
  },
  "language_info": {
   "codemirror_mode": {
    "name": "ipython",
    "version": 3
   },
   "file_extension": ".py",
   "mimetype": "text/x-python",
   "name": "python",
   "nbconvert_exporter": "python",
   "pygments_lexer": "ipython3",
   "version": "3.12.2"
  }
 },
 "nbformat": 4,
 "nbformat_minor": 2
}
