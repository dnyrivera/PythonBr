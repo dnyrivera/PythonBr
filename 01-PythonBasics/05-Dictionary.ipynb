{
 "cells": [
  {
   "cell_type": "markdown",
   "metadata": {},
   "source": [
    "## Dictionary"
   ]
  },
  {
   "cell_type": "code",
   "execution_count": 14,
   "metadata": {},
   "outputs": [
    {
     "name": "stdout",
     "output_type": "stream",
     "text": [
      "Donny 41\n"
     ]
    }
   ],
   "source": [
    "my_dict = {'name': 'John', 'age': 30, 'city': 'New York', 'name': 'Donny', 'age': 41, 'city': 'Toronto'}\n",
    "\n",
    "# get the value of the 'name' key\n",
    "print(my_dict['name'], my_dict.get('age'))\n",
    "\n",
    "# remove the 'city' key\n",
    "my_dict.pop('city')\n",
    "\n",
    "# print the dictionary\n",
    "my_dict.keys()\n",
    "\n",
    "# print the values of the dictionary\n",
    "my_dict.values()\n",
    "\n",
    "# clear the dictionary\n",
    "my_dict.clear()\n"
   ]
  },
  {
   "cell_type": "code",
   "execution_count": 6,
   "metadata": {},
   "outputs": [],
   "source": [
    "dict_person = {\n",
    "    'name': 'Donny',\n",
    "    'age': 41,\n",
    "    'city': 'Toronto',\n",
    "    'hobbies': ['IT', 'video games', 'dogs'],\n",
    "    'pets': {\n",
    "        'dog': 'Nina',\n",
    "        'age': 11,\n",
    "        'weight': 10\n",
    "        }\n",
    "}"
   ]
  },
  {
   "cell_type": "code",
   "execution_count": 41,
   "metadata": {},
   "outputs": [
    {
     "name": "stdout",
     "output_type": "stream",
     "text": [
      "Get: Donny | Just one information: 41 \n",
      "\n",
      "Get all: ['IT', 'video games', 'dogs'] \n",
      "Get one: IT \n",
      "Brackets All: ['IT', 'video games', 'dogs'] \n",
      "Brackets One: video games \n",
      "\n",
      "Get all: {'dog': 'Nina', 'age': 11, 'weight': 10} \n",
      "Get one: 11 \n",
      "Brackets All: {'dog': 'Nina', 'age': 11, 'weight': 10} \n",
      "Brackets One: Nina\n"
     ]
    }
   ],
   "source": [
    "# Shows the dictionary information using get and without get \n",
    "print('Get:', dict_person.get('name'),'| Just one information:', dict_person['age'],'\\n')\n",
    "\n",
    "# Get the values from a list in the dictionary\n",
    "print('Get all:', dict_person.get('hobbies'),'\\n'\n",
    "      'Get one:', dict_person.get('hobbies')[0],'\\n'\n",
    "      'Brackets All:', dict_person['hobbies'],'\\n'\n",
    "      'Brackets One:', dict_person['hobbies'][1],'\\n')\n",
    "\n",
    "# Get the values from a dictionary in the dictionary\n",
    "print('Get all:', dict_person.get('pets'),'\\n'\n",
    "      'Get one:', dict_person.get('pets').get('age'),'\\n'\n",
    "      'Brackets All:', dict_person['pets'],'\\n'\n",
    "      'Brackets One:', dict_person['pets']['dog'])"
   ]
  },
  {
   "cell_type": "code",
   "execution_count": 44,
   "metadata": {},
   "outputs": [
    {
     "data": {
      "text/plain": [
       "{'name': 'Donny',\n",
       " 'age': 41,\n",
       " 'city': 'Toronto',\n",
       " 'hobbies': ['IT', 'video games', 'dogs'],\n",
       " 'pets': {'dog': 'Nina', 'age': 11, 'weight': 10},\n",
       " 'DoB': '13/07/1983'}"
      ]
     },
     "execution_count": 44,
     "metadata": {},
     "output_type": "execute_result"
    }
   ],
   "source": [
    "# Add new attribute on the dictionary\n",
    "dict_person['DoB'] = '13/07/1983'\n",
    "dict_person"
   ]
  },
  {
   "cell_type": "code",
   "execution_count": 50,
   "metadata": {},
   "outputs": [
    {
     "data": {
      "text/plain": [
       "{'name': 'Donny',\n",
       " 'age': 41,\n",
       " 'city': 'Toronto',\n",
       " 'hobbies': ['IT', 'video games', 'dogs'],\n",
       " 'pets': {'dog': 'Nina', 'age': 11, 'weight': 10},\n",
       " 'DoB': '13/07/1983',\n",
       " 'Colors': ['Black', 'Yellow'],\n",
       " 'parents': {'father': 'John', 'mother': 'Helena'}}"
      ]
     },
     "execution_count": 50,
     "metadata": {},
     "output_type": "execute_result"
    }
   ],
   "source": [
    "# Add colors for person \n",
    "dict_person['Colors'] = ['Black', 'Yellow']\n",
    "dict_person['parents'] = {\n",
    "    'father': 'John',\n",
    "    'mother': 'Jane'\n",
    "}\n",
    "dict_person \n",
    "\n",
    "dict_person['parents']['mother'] = 'Helena'\n",
    "\n",
    "dict_person"
   ]
  }
 ],
 "metadata": {
  "kernelspec": {
   "display_name": "venv",
   "language": "python",
   "name": "python3"
  },
  "language_info": {
   "codemirror_mode": {
    "name": "ipython",
    "version": 3
   },
   "file_extension": ".py",
   "mimetype": "text/x-python",
   "name": "python",
   "nbconvert_exporter": "python",
   "pygments_lexer": "ipython3",
   "version": "3.12.2"
  }
 },
 "nbformat": 4,
 "nbformat_minor": 2
}
